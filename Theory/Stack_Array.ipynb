{
 "cells": [
  {
   "cell_type": "code",
   "execution_count": 11,
   "id": "ee22c3c8",
   "metadata": {},
   "outputs": [],
   "source": [
    "class Stack:\n",
    "    def __init__(self,size):\n",
    "        self.top = -1\n",
    "        self.size = size\n",
    "        self.stack = [None]* self.size\n",
    "    def push(self,data):\n",
    "        if self.top == self.size - 1:\n",
    "            return \"Stack Overflow\"\n",
    "        else:\n",
    "            self.top =self.top + 1\n",
    "            self.stack[self.top] = data\n",
    "    def pop(self):\n",
    "        if self.top == -1:\n",
    "            return \"Stack Underflow\"\n",
    "        else:\n",
    "            data = self.stack[self.top]\n",
    "            self.top =self.top - 1\n",
    "            return data\n",
    "    def peek(self):\n",
    "        if self.top == -1:\n",
    "            return \"Stack Empty\"\n",
    "        else:\n",
    "            return self.stack[self.top]\n",
    "        "
   ]
  },
  {
   "cell_type": "code",
   "execution_count": 12,
   "id": "00f022dd",
   "metadata": {},
   "outputs": [],
   "source": [
    "s = Stack(5)"
   ]
  },
  {
   "cell_type": "code",
   "execution_count": 22,
   "id": "7b981cbd",
   "metadata": {},
   "outputs": [
    {
     "data": {
      "text/plain": [
       "'Stack Overflow'"
      ]
     },
     "execution_count": 22,
     "metadata": {},
     "output_type": "execute_result"
    }
   ],
   "source": [
    "s.push(5)\n",
    "s.push(3)\n",
    "s.push(1)\n",
    "s.push(8)"
   ]
  },
  {
   "cell_type": "code",
   "execution_count": 20,
   "id": "b4a78e0c",
   "metadata": {},
   "outputs": [
    {
     "data": {
      "text/plain": [
       "'Stack Empty'"
      ]
     },
     "execution_count": 20,
     "metadata": {},
     "output_type": "execute_result"
    }
   ],
   "source": [
    "s.peek()"
   ]
  },
  {
   "cell_type": "code",
   "execution_count": 19,
   "id": "f31b1577",
   "metadata": {},
   "outputs": [
    {
     "data": {
      "text/plain": [
       "'Stack Underflow'"
      ]
     },
     "execution_count": 19,
     "metadata": {},
     "output_type": "execute_result"
    }
   ],
   "source": [
    "s.pop()"
   ]
  },
  {
   "cell_type": "code",
   "execution_count": null,
   "id": "582c201b",
   "metadata": {},
   "outputs": [],
   "source": []
  }
 ],
 "metadata": {
  "kernelspec": {
   "display_name": "Python 3 (ipykernel)",
   "language": "python",
   "name": "python3"
  },
  "language_info": {
   "codemirror_mode": {
    "name": "ipython",
    "version": 3
   },
   "file_extension": ".py",
   "mimetype": "text/x-python",
   "name": "python",
   "nbconvert_exporter": "python",
   "pygments_lexer": "ipython3",
   "version": "3.11.1"
  }
 },
 "nbformat": 4,
 "nbformat_minor": 5
}
