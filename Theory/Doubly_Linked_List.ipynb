{
 "cells": [
  {
   "cell_type": "code",
   "execution_count": 103,
   "id": "1db5cad4",
   "metadata": {},
   "outputs": [],
   "source": [
    "class Node():\n",
    "    def __init__(self,prev=None,value=None,next=None):\n",
    "        self.prev = prev\n",
    "        self.value = value\n",
    "        self.next = next\n",
    "class DLL():\n",
    "    def __init__(self,start = None):\n",
    "        self.start = start\n",
    "    \n",
    "    def is_empty():\n",
    "        return self.start == None\n",
    "    \n",
    "    def insert_at_start(self,data):\n",
    "        n = Node (None,data,self.start)\n",
    "        if not self.is_empty:\n",
    "            self.start.prev = n\n",
    "        self.start = n\n",
    "    \n",
    "    def append (self,data):\n",
    "        curr = self.start\n",
    "        n =  Node(curr,data,None)\n",
    "        if self.start!= None:\n",
    "            while curr.next != None :\n",
    "                curr =  curr.next\n",
    "            curr.next = n\n",
    "        else :\n",
    "            self.start = n\n",
    "    \n",
    "    def search(self , data):\n",
    "        pos = 0\n",
    "        index = []\n",
    "        curr = self.start\n",
    "        while curr != None:\n",
    "            if curr.value == data :\n",
    "                index.append(pos)\n",
    "            pos = pos + 1\n",
    "            curr = curr.next\n",
    "        if not index :\n",
    "            return \"Item not found\"\n",
    "        else : \n",
    "            return f\"Item found at : {index}\"\n",
    "    \n",
    "    def search_item(self,data):\n",
    "        temp = self.start\n",
    "        while temp != None :\n",
    "            if temp.value == data:\n",
    "                return temp\n",
    "            temp = temp.next\n",
    "        return \"Item not found\"\n",
    "    \n",
    "    def insert_after(self, item, data):\n",
    "        curr = self.start\n",
    "        while curr is not None:\n",
    "            if curr.value == item:\n",
    "                new_node = Node(curr, data, curr.next)\n",
    "                if curr.next is not None:\n",
    "                    curr.next.prev = new_node\n",
    "                curr.next = new_node\n",
    "                return \"Node inserted\"\n",
    "            curr = curr.next\n",
    "        return \"Item not found\"\n",
    "    \n",
    "    '''def insert_before(self, item,data):\n",
    "        temp = self.search_item(item)\n",
    "        n = Node(temp.prev.next,data,temp.prev)\n",
    "        temp.prev = n.next'''\n",
    "            \n",
    "    def __str__(self):\n",
    "        curr = self.start\n",
    "        result = \"\"\n",
    "        while curr != None :\n",
    "            result = result + str(curr.value) + \"<-->\"\n",
    "            curr = curr.next\n",
    "        return result[:-4]\n",
    "    \n",
    "    def delete_head(self):\n",
    "        if self.start == None: \n",
    "            return \"Empty List\"\n",
    "        else:\n",
    "            self.start = self.start.next\n",
    "            self.start.prev = None\n",
    "                \n",
    "    def delete_tail(self):\n",
    "        curr = self.start\n",
    "        if curr == None:\n",
    "            return \"Empty List\"\n",
    "        elif curr.next == None:\n",
    "            self.start = None\n",
    "        else:\n",
    "            while curr.next.next != None:\n",
    "                curr = curr.next\n",
    "            curr.next = None\n",
    "    \n",
    "    def delete_item(self, item):\n",
    "        curr = self.search_item(item)\n",
    "        curr.prev.next = curr.next\n",
    "        curr.next = None"
   ]
  },
  {
   "cell_type": "code",
   "execution_count": 104,
   "id": "a0f05e07",
   "metadata": {},
   "outputs": [],
   "source": [
    "L = DLL()"
   ]
  },
  {
   "cell_type": "code",
   "execution_count": 105,
   "id": "7abc7e33",
   "metadata": {},
   "outputs": [],
   "source": [
    "L.insert_at_start(11)\n",
    "L.insert_at_start(10)\n",
    "L.insert_at_start(18)\n",
    "L.insert_at_start(12)\n",
    "L.insert_at_start(15)"
   ]
  },
  {
   "cell_type": "code",
   "execution_count": 106,
   "id": "3b71ea12",
   "metadata": {},
   "outputs": [],
   "source": [
    "L.append(21)"
   ]
  },
  {
   "cell_type": "code",
   "execution_count": 107,
   "id": "8a731699",
   "metadata": {},
   "outputs": [
    {
     "name": "stdout",
     "output_type": "stream",
     "text": [
      "15<-->12<-->18<-->10<-->11<-->21\n"
     ]
    }
   ],
   "source": [
    "print(L)"
   ]
  },
  {
   "cell_type": "code",
   "execution_count": 108,
   "id": "2b394017",
   "metadata": {},
   "outputs": [
    {
     "data": {
      "text/plain": [
       "<__main__.Node at 0x24183c15750>"
      ]
     },
     "execution_count": 108,
     "metadata": {},
     "output_type": "execute_result"
    }
   ],
   "source": [
    "L.search_item(11)"
   ]
  },
  {
   "cell_type": "code",
   "execution_count": 109,
   "id": "d564fceb",
   "metadata": {},
   "outputs": [
    {
     "data": {
      "text/plain": [
       "'Node inserted'"
      ]
     },
     "execution_count": 109,
     "metadata": {},
     "output_type": "execute_result"
    }
   ],
   "source": [
    "L.insert_after(18,48)"
   ]
  },
  {
   "cell_type": "code",
   "execution_count": 110,
   "id": "3f4c93db",
   "metadata": {},
   "outputs": [
    {
     "name": "stdout",
     "output_type": "stream",
     "text": [
      "15<-->12<-->18<-->48<-->10<-->11<-->21\n"
     ]
    }
   ],
   "source": [
    "print(L)"
   ]
  },
  {
   "cell_type": "code",
   "execution_count": 111,
   "id": "4872d0bb",
   "metadata": {},
   "outputs": [
    {
     "name": "stdout",
     "output_type": "stream",
     "text": [
      "12<-->18<-->48<-->10<-->11<-->21\n"
     ]
    }
   ],
   "source": [
    "L.delete_head()\n",
    "print(L)"
   ]
  },
  {
   "cell_type": "code",
   "execution_count": 112,
   "id": "057288d6",
   "metadata": {},
   "outputs": [
    {
     "name": "stdout",
     "output_type": "stream",
     "text": [
      "12<-->18<-->48<-->10<-->11\n"
     ]
    }
   ],
   "source": [
    "L.delete_tail()\n",
    "print(L)"
   ]
  },
  {
   "cell_type": "code",
   "execution_count": 113,
   "id": "13fe2fa3",
   "metadata": {},
   "outputs": [],
   "source": [
    "a = L.search_item(18)"
   ]
  },
  {
   "cell_type": "code",
   "execution_count": 114,
   "id": "228165d4",
   "metadata": {},
   "outputs": [
    {
     "name": "stdout",
     "output_type": "stream",
     "text": [
      "None\n"
     ]
    }
   ],
   "source": [
    "print(a.prev)"
   ]
  },
  {
   "cell_type": "code",
   "execution_count": 117,
   "id": "fbb18f1d",
   "metadata": {},
   "outputs": [
    {
     "ename": "AttributeError",
     "evalue": "'str' object has no attribute 'next'",
     "output_type": "error",
     "traceback": [
      "\u001b[1;31m---------------------------------------------------------------------------\u001b[0m",
      "\u001b[1;31mAttributeError\u001b[0m                            Traceback (most recent call last)",
      "Cell \u001b[1;32mIn[117], line 1\u001b[0m\n\u001b[1;32m----> 1\u001b[0m \u001b[43mL\u001b[49m\u001b[38;5;241;43m.\u001b[39;49m\u001b[43mdelete_item\u001b[49m\u001b[43m(\u001b[49m\u001b[38;5;241;43m11\u001b[39;49m\u001b[43m)\u001b[49m\n\u001b[0;32m      2\u001b[0m \u001b[38;5;28mprint\u001b[39m(L)\n",
      "Cell \u001b[1;32mIn[103], line 96\u001b[0m, in \u001b[0;36mDLL.delete_item\u001b[1;34m(self, item)\u001b[0m\n\u001b[0;32m     94\u001b[0m \u001b[38;5;28;01mdef\u001b[39;00m \u001b[38;5;21mdelete_item\u001b[39m(\u001b[38;5;28mself\u001b[39m, item):\n\u001b[0;32m     95\u001b[0m     curr \u001b[38;5;241m=\u001b[39m \u001b[38;5;28mself\u001b[39m\u001b[38;5;241m.\u001b[39msearch_item(item)\n\u001b[1;32m---> 96\u001b[0m     curr\u001b[38;5;241m.\u001b[39mprev\u001b[38;5;241m.\u001b[39mnext \u001b[38;5;241m=\u001b[39m \u001b[43mcurr\u001b[49m\u001b[38;5;241;43m.\u001b[39;49m\u001b[43mnext\u001b[49m\n\u001b[0;32m     97\u001b[0m     curr\u001b[38;5;241m.\u001b[39mnext \u001b[38;5;241m=\u001b[39m \u001b[38;5;28;01mNone\u001b[39;00m\n",
      "\u001b[1;31mAttributeError\u001b[0m: 'str' object has no attribute 'next'"
     ]
    }
   ],
   "source": [
    "L.delete_item(11)\n",
    "print(L)"
   ]
  },
  {
   "cell_type": "code",
   "execution_count": null,
   "id": "75a2edaf",
   "metadata": {},
   "outputs": [],
   "source": []
  }
 ],
 "metadata": {
  "kernelspec": {
   "display_name": "Python 3 (ipykernel)",
   "language": "python",
   "name": "python3"
  },
  "language_info": {
   "codemirror_mode": {
    "name": "ipython",
    "version": 3
   },
   "file_extension": ".py",
   "mimetype": "text/x-python",
   "name": "python",
   "nbconvert_exporter": "python",
   "pygments_lexer": "ipython3",
   "version": "3.11.1"
  }
 },
 "nbformat": 4,
 "nbformat_minor": 5
}
