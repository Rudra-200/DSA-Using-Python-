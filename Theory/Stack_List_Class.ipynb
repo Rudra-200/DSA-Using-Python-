{
 "cells": [
  {
   "cell_type": "markdown",
   "id": "c712f769",
   "metadata": {},
   "source": [
    "# Implementing Stack by Inheriting List Class"
   ]
  },
  {
   "cell_type": "code",
   "execution_count": 1,
   "id": "feb198e1",
   "metadata": {},
   "outputs": [],
   "source": [
    "class stack(list):\n",
    "    def is_empty():\n",
    "        return len(self) == 0\n",
    "    \n",
    "    def push(self,data):\n",
    "        self.append(data)\n",
    "    \n",
    "    def pop(self):\n",
    "        if not self.is_empty():\n",
    "            return super().self.pop()\n",
    "        else:\n",
    "            raise IndexError(\"Stack is empty\")\n",
    "    def peek(self):\n",
    "        if not self.is_empty():\n",
    "            return self[-1]\n",
    "        else:\n",
    "            raise IndexError(\"Stack is empty\")\n",
    "    def size(self):\n",
    "        return len(self)\n",
    "    \n",
    "    # Very Important\n",
    "    \n",
    "    def insert(self,index,data):\n",
    "        raise AttributeError(\"No insert attribute in stack \")"
   ]
  },
  {
   "cell_type": "code",
   "execution_count": 3,
   "id": "539284c1",
   "metadata": {},
   "outputs": [],
   "source": [
    "s = stack()"
   ]
  },
  {
   "cell_type": "code",
   "execution_count": 4,
   "id": "77d5b62f",
   "metadata": {},
   "outputs": [],
   "source": [
    "s.push(25)\n",
    "s.push(15)\n",
    "s.push(5)\n",
    "s.push(12)\n",
    "s.push(22)\n"
   ]
  },
  {
   "cell_type": "code",
   "execution_count": 5,
   "id": "3086c0f3",
   "metadata": {},
   "outputs": [
    {
     "data": {
      "text/plain": [
       "5"
      ]
     },
     "execution_count": 5,
     "metadata": {},
     "output_type": "execute_result"
    }
   ],
   "source": [
    "s.size()"
   ]
  },
  {
   "cell_type": "code",
   "execution_count": 6,
   "id": "040fe674",
   "metadata": {},
   "outputs": [
    {
     "ename": "AttributeError",
     "evalue": "No insert attribute in stack ",
     "output_type": "error",
     "traceback": [
      "\u001b[1;31m---------------------------------------------------------------------------\u001b[0m",
      "\u001b[1;31mAttributeError\u001b[0m                            Traceback (most recent call last)",
      "Cell \u001b[1;32mIn[6], line 1\u001b[0m\n\u001b[1;32m----> 1\u001b[0m \u001b[43ms\u001b[49m\u001b[38;5;241;43m.\u001b[39;49m\u001b[43minsert\u001b[49m\u001b[43m(\u001b[49m\u001b[38;5;241;43m2\u001b[39;49m\u001b[43m,\u001b[49m\u001b[38;5;241;43m5\u001b[39;49m\u001b[43m)\u001b[49m\n",
      "Cell \u001b[1;32mIn[1], line 24\u001b[0m, in \u001b[0;36mstack.insert\u001b[1;34m(self, index, data)\u001b[0m\n\u001b[0;32m     23\u001b[0m \u001b[38;5;28;01mdef\u001b[39;00m \u001b[38;5;21minsert\u001b[39m(\u001b[38;5;28mself\u001b[39m,index,data):\n\u001b[1;32m---> 24\u001b[0m     \u001b[38;5;28;01mraise\u001b[39;00m \u001b[38;5;167;01mAttributeError\u001b[39;00m(\u001b[38;5;124m\"\u001b[39m\u001b[38;5;124mNo insert attribute in stack \u001b[39m\u001b[38;5;124m\"\u001b[39m)\n",
      "\u001b[1;31mAttributeError\u001b[0m: No insert attribute in stack "
     ]
    }
   ],
   "source": [
    "s.insert(2,5)"
   ]
  },
  {
   "cell_type": "code",
   "execution_count": 9,
   "id": "0fc287dc",
   "metadata": {},
   "outputs": [
    {
     "data": {
      "text/plain": [
       "' Here since Stack class is child xlass of List it can access all method of List class so  methods like extend,\\n    sort thou not present in stack class can still be called to rectify this problem we override the parent method \\n    by child method as done above with \"insert\"'"
      ]
     },
     "execution_count": 9,
     "metadata": {},
     "output_type": "execute_result"
    }
   ],
   "source": [
    "s.sort() \n",
    "''' Here since Stack class is child xlass of List it can access all method of List class so  methods like extend,\n",
    "    sort thou not present in stack class can still be called to rectify this problem we override the parent method \n",
    "    by child method as done above with \"insert\"'''"
   ]
  },
  {
   "cell_type": "code",
   "execution_count": null,
   "id": "c3395da3",
   "metadata": {},
   "outputs": [],
   "source": []
  }
 ],
 "metadata": {
  "kernelspec": {
   "display_name": "Python 3 (ipykernel)",
   "language": "python",
   "name": "python3"
  },
  "language_info": {
   "codemirror_mode": {
    "name": "ipython",
    "version": 3
   },
   "file_extension": ".py",
   "mimetype": "text/x-python",
   "name": "python",
   "nbconvert_exporter": "python",
   "pygments_lexer": "ipython3",
   "version": "3.11.1"
  }
 },
 "nbformat": 4,
 "nbformat_minor": 5
}
