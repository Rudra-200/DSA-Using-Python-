{
 "cells": [
  {
   "cell_type": "code",
   "execution_count": 1,
   "id": "f7d2a9c2",
   "metadata": {},
   "outputs": [],
   "source": [
    "class Node:\n",
    "    def __init__(self,prev=None,item = None, next = None):\n",
    "        self.prev = prev\n",
    "        self.item = item\n",
    "        self.next = next"
   ]
  },
  {
   "cell_type": "code",
   "execution_count": 2,
   "metadata": {},
   "outputs": [],
   "source": [
    "class Deque:\n",
    "    def __init__(self):\n",
    "        self.front = None\n",
    "        self.rear =None\n",
    "        self.n = 0\n",
    "    \n",
    "    def is_empty(self):\n",
    "        return self.n == 0\n",
    "    \n",
    "    def size(self):\n",
    "        return self.n\n",
    "    \n",
    "    def insert_front(self,data):\n",
    "        n = Node(None,data,self.front)\n",
    "        if self.is_empty():\n",
    "            self.front = n\n",
    "            self.rear = n\n",
    "            self.n+=1\n",
    "        else:\n",
    "            self.front.prev = n\n",
    "            self.front = n\n",
    "            self.n+=1\n",
    "            \n",
    "    def insert_rear(self,data):\n",
    "        n = Node(self.rear,data)\n",
    "        if self.is_empty():\n",
    "            self.front = n\n",
    "            self.rear = n\n",
    "            self.n+=1\n",
    "        else:\n",
    "            self.rear.next = n\n",
    "            self.rear = n\n",
    "            self.n += 1\n",
    "            \n",
    "    def delete_front(self):\n",
    "        if self.is_empty():\n",
    "            raise IndexError(\"Deque is Empty\")\n",
    "        if self.front == self.rear:\n",
    "            self.front = None\n",
    "            self.rear = None\n",
    "            self.n -= 1\n",
    "        else:\n",
    "            self.front = self.front.next\n",
    "            self.front.prev = None\n",
    "            self.n -= 1\n",
    "            \n",
    "    def delete_rear(self):\n",
    "        if self.is_empty():\n",
    "            raise IndexError(\"Deque is Empty\")\n",
    "        if self.front == self.rear:\n",
    "            self.front = None\n",
    "            self.rear = None\n",
    "            self.n -= 1\n",
    "        else:\n",
    "            self.rear = self.rear.prev\n",
    "            self.rear.next = None\n",
    "            self.n -= 1\n",
    "            \n",
    "            "
   ]
  },
  {
   "cell_type": "code",
   "execution_count": null,
   "metadata": {},
   "outputs": [],
   "source": []
  },
  {
   "cell_type": "code",
   "execution_count": null,
   "metadata": {},
   "outputs": [],
   "source": []
  },
  {
   "cell_type": "code",
   "execution_count": null,
   "metadata": {},
   "outputs": [],
   "source": []
  }
 ],
 "metadata": {
  "kernelspec": {
   "display_name": "Python 3",
   "language": "python",
   "name": "python3"
  },
  "language_info": {
   "codemirror_mode": {
    "name": "ipython",
    "version": 3
   },
   "file_extension": ".py",
   "mimetype": "text/x-python",
   "name": "python",
   "nbconvert_exporter": "python",
   "pygments_lexer": "ipython3",
   "version": "3.11.1"
  }
 },
 "nbformat": 4,
 "nbformat_minor": 5
}
