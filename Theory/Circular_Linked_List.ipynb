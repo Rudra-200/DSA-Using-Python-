{
 "cells": [
  {
   "cell_type": "code",
   "execution_count": 10,
   "id": "7a3098fc",
   "metadata": {},
   "outputs": [],
   "source": [
    "class Node:\n",
    "\n",
    "    def __init__(self,item=None, next=None):\n",
    "        self.item = item\n",
    "        self.next = next"
   ]
  },
  {
   "cell_type": "code",
   "execution_count": null,
   "id": "56b0d206",
   "metadata": {},
   "outputs": [],
   "source": [
    "class CLL:\n",
    "    \n",
    "    def __init__(self, last = None):\n",
    "        self.last = last\n",
    "        \n",
    "    def is_empty(self):\n",
    "        return self.last == None\n",
    "    \n",
    "    def insert_at_start(self, data):\n",
    "        n = Node(data)\n",
    "        if self.is_empty():\n",
    "            n.next = n\n",
    "            self.last = n   # Set self.last first before accessing self.last.next\n",
    "        else:\n",
    "            n.next = self.last.next\n",
    "            self.last.next = n\n",
    "    \n",
    "    def __str__(self):\n",
    "        if self.is_empty():\n",
    "            return \"Empty List\"\n",
    "        curr = self.last.next\n",
    "        result = \"\"\n",
    "        while curr != self.last:\n",
    "            result += str(curr.item) + \"->\"\n",
    "            curr = curr.next\n",
    "        result += str(curr.item) + \"->\" +\"start\"\n",
    "        return result\n",
    "    \n",
    "    def append(self,data):\n",
    "        n = Node(data)\n",
    "        if self.is_empty():\n",
    "            n.next = n\n",
    "            self.last = n    \n",
    "        else:\n",
    "            n.next = self.last.next\n",
    "            self.last.next = n\n",
    "            self.last = n\n",
    "            \n",
    "    def search (self, data):\n",
    "        if self.is_empty():\n",
    "            return None\n",
    "        curr = self.last.next\n",
    "        while curr != self.last:\n",
    "            if curr.item == data :\n",
    "                return curr\n",
    "            curr = curr.next\n",
    "        if curr.item == data :\n",
    "                return curr\n",
    "        return None\n",
    "    \n",
    "    def insert_after(self, data, item):\n",
    "        temp = self.search(data)\n",
    "        if temp == None:\n",
    "            return \"Item Not Found\"\n",
    "        else:\n",
    "            n = Node(item)\n",
    "            n.next = temp.next\n",
    "            temp.next = n\n",
    "            if temp == self.last:\n",
    "                self.last = n \n",
    "                \n",
    "    def delete_start(self):\n",
    "        if not self.is_empty():\n",
    "            if self.last.next == self.last:\n",
    "                self.last = None\n",
    "            else:\n",
    "                self.last.next = self.last.next.next\n",
    "        else:\n",
    "            return \"List is Empty\"\n",
    "        \n",
    "    def delete_last(self):\n",
    "        if not self.is_empty():\n",
    "            if self.last.next == self.last:\n",
    "                self.last = None\n",
    "            else:\n",
    "                curr = self.last.next\n",
    "                while curr.next !=  self.last:\n",
    "                    curr = curr.next\n",
    "                curr.next = self.last.next\n",
    "                self.last = curr\n",
    "    \n",
    "    def delete_item(self, data):\n",
    "        if self.is_empty():\n",
    "            print(\"List is empty. Nothing to delete.\")\n",
    "            return\n",
    "\n",
    "        curr = self.last.next\n",
    "        prev = self.last\n",
    "\n",
    "        # Case 1: Only one node\n",
    "        if curr == self.last and curr.item == data:\n",
    "            self.last = None\n",
    "            return\n",
    "\n",
    "        # Case 2: Deleting head or other node\n",
    "        while True:\n",
    "            if curr.item == data:\n",
    "                prev.next = curr.next\n",
    "                if curr == self.last:\n",
    "                    self.last = prev  # Update last if we're deleting the last node\n",
    "                return\n",
    "            prev = curr\n",
    "            curr = curr.next\n",
    "            if curr == self.last.next:\n",
    "                break\n",
    "\n",
    "        print(f\"Item {data} not found.\")\n",
    "\n",
    "        \n",
    "\n",
    "        \n",
    "\n",
    "            \n",
    "        \n",
    "    "
   ]
  },
  {
   "cell_type": "code",
   "execution_count": 72,
   "id": "ca6c60df",
   "metadata": {},
   "outputs": [],
   "source": [
    "l = CLL()"
   ]
  },
  {
   "cell_type": "code",
   "execution_count": 73,
   "id": "ae176249",
   "metadata": {},
   "outputs": [],
   "source": [
    "l.insert_at_start(35)\n",
    "l.insert_at_start(25)\n",
    "l.insert_at_start(15)\n",
    "l.insert_at_start(85)\n",
    "l.insert_at_start(95)\n"
   ]
  },
  {
   "cell_type": "code",
   "execution_count": 74,
   "id": "9822296c",
   "metadata": {},
   "outputs": [
    {
     "name": "stdout",
     "output_type": "stream",
     "text": [
      "95->85->15->25->35->start\n"
     ]
    }
   ],
   "source": [
    "print(l)"
   ]
  },
  {
   "cell_type": "code",
   "execution_count": 75,
   "id": "08757e64",
   "metadata": {},
   "outputs": [],
   "source": [
    "l.insert_after(25,69)\n"
   ]
  },
  {
   "cell_type": "code",
   "execution_count": 76,
   "id": "b73ddcb3",
   "metadata": {},
   "outputs": [
    {
     "name": "stdout",
     "output_type": "stream",
     "text": [
      "95->85->15->25->69->35->start\n"
     ]
    }
   ],
   "source": [
    "print(l)"
   ]
  },
  {
   "cell_type": "code",
   "execution_count": 77,
   "id": "adcc74d1",
   "metadata": {},
   "outputs": [],
   "source": [
    "l.delete_start()\n"
   ]
  },
  {
   "cell_type": "code",
   "execution_count": 78,
   "id": "867e62dc",
   "metadata": {},
   "outputs": [
    {
     "name": "stdout",
     "output_type": "stream",
     "text": [
      "85->15->25->69->35->start\n"
     ]
    }
   ],
   "source": [
    "print(l)"
   ]
  },
  {
   "cell_type": "code",
   "execution_count": 87,
   "id": "3fa6d443",
   "metadata": {},
   "outputs": [],
   "source": [
    "l.delete_last()"
   ]
  },
  {
   "cell_type": "code",
   "execution_count": 88,
   "id": "80d38e09",
   "metadata": {},
   "outputs": [
    {
     "name": "stdout",
     "output_type": "stream",
     "text": [
      "Empty List\n"
     ]
    }
   ],
   "source": [
    "print(l)"
   ]
  },
  {
   "cell_type": "code",
   "execution_count": null,
   "id": "2929f5a6",
   "metadata": {},
   "outputs": [],
   "source": []
  }
 ],
 "metadata": {
  "kernelspec": {
   "display_name": "Python 3",
   "language": "python",
   "name": "python3"
  },
  "language_info": {
   "codemirror_mode": {
    "name": "ipython",
    "version": 3
   },
   "file_extension": ".py",
   "mimetype": "text/x-python",
   "name": "python",
   "nbconvert_exporter": "python",
   "pygments_lexer": "ipython3",
   "version": "3.11.1"
  }
 },
 "nbformat": 4,
 "nbformat_minor": 5
}
