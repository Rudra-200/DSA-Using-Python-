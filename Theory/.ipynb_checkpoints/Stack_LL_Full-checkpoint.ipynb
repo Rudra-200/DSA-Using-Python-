{
 "cells": [
  {
   "cell_type": "code",
   "execution_count": 1,
   "id": "b9408e21",
   "metadata": {},
   "outputs": [],
   "source": [
    "class Node:\n",
    "    def __init__(self, data =None, next = None):\n",
    "        self.data = data\n",
    "        self.next = next\n",
    "        \n",
    "        "
   ]
  },
  {
   "cell_type": "code",
   "execution_count": 2,
   "id": "b55c7260",
   "metadata": {},
   "outputs": [],
   "source": [
    "class Stack:\n",
    "    def __init__(self,top= None):\n",
    "        self.top = top\n",
    "    def is_empty(self):\n",
    "        return self.top == None\n",
    "    def push(self,data):\n",
    "        n = Node(data)\n",
    "        if self.is_empty():\n",
    "            self.top = n\n",
    "        else:\n",
    "            n.next = self.top\n",
    "            self.top = n\n",
    "    def pop (self):\n",
    "        if self.is_empty():\n",
    "            return \"Empty Stack\"\n",
    "        else:\n",
    "            self.top = self.top.next\n",
    "    def peek(self):\n",
    "        if self.is_empty():\n",
    "            return \"Stack Empty\"\n",
    "        else:\n",
    "            return self.top.data\n",
    "        "
   ]
  },
  {
   "cell_type": "code",
   "execution_count": 3,
   "id": "cbffb5dd",
   "metadata": {},
   "outputs": [],
   "source": [
    "s = Stack()"
   ]
  },
  {
   "cell_type": "code",
   "execution_count": 4,
   "id": "57336bdb",
   "metadata": {},
   "outputs": [],
   "source": [
    "s.push(5)\n",
    "s.push(3)\n",
    "s.push(1)\n",
    "s.push(8)"
   ]
  },
  {
   "cell_type": "code",
   "execution_count": 10,
   "id": "f745d620",
   "metadata": {},
   "outputs": [
    {
     "data": {
      "text/plain": [
       "'Empty Stack'"
      ]
     },
     "execution_count": 10,
     "metadata": {},
     "output_type": "execute_result"
    }
   ],
   "source": [
    "s.pop()"
   ]
  },
  {
   "cell_type": "code",
   "execution_count": 11,
   "id": "6fc691e0",
   "metadata": {},
   "outputs": [
    {
     "data": {
      "text/plain": [
       "'Stack Empty'"
      ]
     },
     "execution_count": 11,
     "metadata": {},
     "output_type": "execute_result"
    }
   ],
   "source": [
    "s.peek()"
   ]
  },
  {
   "cell_type": "code",
   "execution_count": null,
   "id": "51f0ebc7",
   "metadata": {},
   "outputs": [],
   "source": []
  }
 ],
 "metadata": {
  "kernelspec": {
   "display_name": "Python 3 (ipykernel)",
   "language": "python",
   "name": "python3"
  },
  "language_info": {
   "codemirror_mode": {
    "name": "ipython",
    "version": 3
   },
   "file_extension": ".py",
   "mimetype": "text/x-python",
   "name": "python",
   "nbconvert_exporter": "python",
   "pygments_lexer": "ipython3",
   "version": "3.11.1"
  }
 },
 "nbformat": 4,
 "nbformat_minor": 5
}
