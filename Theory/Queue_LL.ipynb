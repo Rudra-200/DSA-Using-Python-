{
 "cells": [
  {
   "cell_type": "code",
   "execution_count": 1,
   "id": "e7f952c4",
   "metadata": {},
   "outputs": [],
   "source": [
    "class Node:\n",
    "    def __init__(self,value=None, next= None):\n",
    "        self.value = value\n",
    "        self.next = next\n",
    "        "
   ]
  },
  {
   "cell_type": "code",
   "execution_count": 31,
   "id": "7c9a856b",
   "metadata": {},
   "outputs": [],
   "source": [
    "class Queue :\n",
    "    def __init__(self):\n",
    "        self.front = None\n",
    "        self.rear = None\n",
    "        self.n = 0\n",
    "        \n",
    "    def enqueue(self,data):\n",
    "        n = Node(data)\n",
    "        if self.rear == None:\n",
    "            self.rear = n\n",
    "            self.front = n\n",
    "            self.n = self.n + 1\n",
    "        else:\n",
    "            self.rear.next = n\n",
    "            self.rear = n\n",
    "            self.n = self.n + 1\n",
    "    \n",
    "    def dequeue(self):\n",
    "        if self.front == None:\n",
    "            return \"Queue  is empty\"\n",
    "        else:\n",
    "            self.front=self.front.next\n",
    "            self.n = self.n - 1\n",
    "    \n",
    "    def size(self):\n",
    "        return self.n\n",
    "    \n",
    "    def Front(self):\n",
    "        return self.front.value\n",
    "    \n",
    "    def Rear(self):\n",
    "        return self.rear.value\n",
    "    \n",
    "    '''def __str__(self):\n",
    "        temp = self.rear\n",
    "        result = \"\"\n",
    "        while (temp != None):\n",
    "            result = result + str(temp.value) + \"->\"\n",
    "            temp = temp.next\n",
    "        return result'''\n",
    "            \n",
    "    \n",
    "    \n",
    "            \n",
    "            \n",
    "            \n",
    "        \n",
    "        "
   ]
  },
  {
   "cell_type": "code",
   "execution_count": 32,
   "id": "1a7a10a7",
   "metadata": {},
   "outputs": [],
   "source": [
    "\n",
    "q =Queue()"
   ]
  },
  {
   "cell_type": "code",
   "execution_count": 33,
   "id": "e4a46b56",
   "metadata": {},
   "outputs": [],
   "source": [
    "q.enqueue(5)\n",
    "q.enqueue(15)\n",
    "q.enqueue(8)\n",
    "q.enqueue(7)\n",
    "q.enqueue(2)"
   ]
  },
  {
   "cell_type": "code",
   "execution_count": 34,
   "id": "2b45d59a",
   "metadata": {},
   "outputs": [
    {
     "data": {
      "text/plain": [
       "2"
      ]
     },
     "execution_count": 34,
     "metadata": {},
     "output_type": "execute_result"
    }
   ],
   "source": [
    "q.Rear()"
   ]
  },
  {
   "cell_type": "code",
   "execution_count": 40,
   "id": "4d95ffea",
   "metadata": {},
   "outputs": [
    {
     "data": {
      "text/plain": [
       "'Queue  is empty'"
      ]
     },
     "execution_count": 40,
     "metadata": {},
     "output_type": "execute_result"
    }
   ],
   "source": [
    "q.dequeue()"
   ]
  },
  {
   "cell_type": "code",
   "execution_count": null,
   "id": "88b82cbc",
   "metadata": {},
   "outputs": [],
   "source": []
  }
 ],
 "metadata": {
  "kernelspec": {
   "display_name": "Python 3",
   "language": "python",
   "name": "python3"
  },
  "language_info": {
   "codemirror_mode": {
    "name": "ipython",
    "version": 3
   },
   "file_extension": ".py",
   "mimetype": "text/x-python",
   "name": "python",
   "nbconvert_exporter": "python",
   "pygments_lexer": "ipython3",
   "version": "3.11.1"
  }
 },
 "nbformat": 4,
 "nbformat_minor": 5
}
