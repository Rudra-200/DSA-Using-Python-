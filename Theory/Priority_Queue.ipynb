{
 "cells": [
  {
   "cell_type": "code",
   "execution_count": 27,
   "id": "521e24b8",
   "metadata": {},
   "outputs": [],
   "source": [
    "class Node:\n",
    "    def __init__(self,priority,item=None,next=None):\n",
    "        self.priority = priority\n",
    "        self.item =  item\n",
    "        self.next = next\n"
   ]
  },
  {
   "cell_type": "code",
   "execution_count": 28,
   "id": "342dbb4a",
   "metadata": {},
   "outputs": [],
   "source": [
    "class PriorityQueue:\n",
    "    def __init__(self):\n",
    "        self.start = None\n",
    "        self.n = 0\n",
    "    \n",
    "    def Push(self,priority,data):\n",
    "        n = Node(priority,data)\n",
    "        if not self.start or priority <= self.start.priority :\n",
    "            n.next = self.start\n",
    "            self.start = n\n",
    "            self.n+=1\n",
    "        else:\n",
    "            temp =  self.start\n",
    "            while temp.next and priority>=temp.next.priority :\n",
    "                temp = temp.next\n",
    "            n.next = temp.next\n",
    "            temp.next = n\n",
    "            self.n+=1\n",
    "    \n",
    "    def Pop(self):\n",
    "        data = self.start.item \n",
    "        self.start = self.start.next\n",
    "        self.n-=1\n",
    "        return data\n",
    "            \n",
    "    def is_empty(self):\n",
    "        return self.n==0\n",
    "    \n",
    "    def size(self):\n",
    "        return self.n\n",
    "    \n",
    "    def Pop(self):\n",
    "        if not self.is_empty():\n",
    "            data = self.start.item \n",
    "            self.start = self.start.next\n",
    "            return data\n",
    "        else:\n",
    "            return \"Empty Queue\"\n",
    "             "
   ]
  },
  {
   "cell_type": "code",
   "execution_count": 29,
   "metadata": {},
   "outputs": [],
   "source": [
    "p = PriorityQueue()"
   ]
  },
  {
   "cell_type": "code",
   "execution_count": 32,
   "metadata": {},
   "outputs": [],
   "source": [
    "p.Push(2,60)\n",
    "p.Push(1,40)\n",
    "p.Push(3,20)\n",
    "p.Push(5,50)\n",
    "p.Push(4,90)"
   ]
  },
  {
   "cell_type": "code",
   "execution_count": 31,
   "metadata": {},
   "outputs": [],
   "source": [
    "while p.is_empty():\n",
    "    d = p.Pop()\n",
    "    print(d)"
   ]
  },
  {
   "cell_type": "code",
   "execution_count": 43,
   "id": "4cf8258f",
   "metadata": {},
   "outputs": [
    {
     "ename": "AttributeError",
     "evalue": "'NoneType' object has no attribute 'item'",
     "output_type": "error",
     "traceback": [
      "\u001b[1;31m---------------------------------------------------------------------------\u001b[0m",
      "\u001b[1;31mAttributeError\u001b[0m                            Traceback (most recent call last)",
      "Cell \u001b[1;32mIn[43], line 1\u001b[0m\n\u001b[1;32m----> 1\u001b[0m \u001b[43mp\u001b[49m\u001b[38;5;241;43m.\u001b[39;49m\u001b[43mPop\u001b[49m\u001b[43m(\u001b[49m\u001b[43m)\u001b[49m\n",
      "Cell \u001b[1;32mIn[28], line 34\u001b[0m, in \u001b[0;36mPriorityQueue.Pop\u001b[1;34m(self)\u001b[0m\n\u001b[0;32m     32\u001b[0m \u001b[38;5;28;01mdef\u001b[39;00m \u001b[38;5;21mPop\u001b[39m(\u001b[38;5;28mself\u001b[39m):\n\u001b[0;32m     33\u001b[0m     \u001b[38;5;28;01mif\u001b[39;00m \u001b[38;5;129;01mnot\u001b[39;00m \u001b[38;5;28mself\u001b[39m\u001b[38;5;241m.\u001b[39mis_empty():\n\u001b[1;32m---> 34\u001b[0m         data \u001b[38;5;241m=\u001b[39m \u001b[38;5;28;43mself\u001b[39;49m\u001b[38;5;241;43m.\u001b[39;49m\u001b[43mstart\u001b[49m\u001b[38;5;241;43m.\u001b[39;49m\u001b[43mitem\u001b[49m \n\u001b[0;32m     35\u001b[0m         \u001b[38;5;28mself\u001b[39m\u001b[38;5;241m.\u001b[39mstart \u001b[38;5;241m=\u001b[39m \u001b[38;5;28mself\u001b[39m\u001b[38;5;241m.\u001b[39mstart\u001b[38;5;241m.\u001b[39mnext\n\u001b[0;32m     36\u001b[0m         \u001b[38;5;28;01mreturn\u001b[39;00m data\n",
      "\u001b[1;31mAttributeError\u001b[0m: 'NoneType' object has no attribute 'item'"
     ]
    }
   ],
   "source": [
    "p.Pop()"
   ]
  },
  {
   "cell_type": "code",
   "execution_count": null,
   "id": "defc636e",
   "metadata": {},
   "outputs": [],
   "source": []
  },
  {
   "cell_type": "code",
   "execution_count": null,
   "id": "35928729",
   "metadata": {},
   "outputs": [],
   "source": []
  }
 ],
 "metadata": {
  "kernelspec": {
   "display_name": "Python 3",
   "language": "python",
   "name": "python3"
  },
  "language_info": {
   "codemirror_mode": {
    "name": "ipython",
    "version": 3
   },
   "file_extension": ".py",
   "mimetype": "text/x-python",
   "name": "python",
   "nbconvert_exporter": "python",
   "pygments_lexer": "ipython3",
   "version": "3.11.1"
  }
 },
 "nbformat": 4,
 "nbformat_minor": 5
}
