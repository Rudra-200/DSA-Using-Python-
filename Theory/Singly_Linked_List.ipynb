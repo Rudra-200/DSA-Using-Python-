{
 "cells": [
  {
   "cell_type": "markdown",
   "id": "290d00c8",
   "metadata": {},
   "source": [
    "# Build Node Class"
   ]
  },
  {
   "cell_type": "code",
   "execution_count": 4,
   "id": "16e5f655",
   "metadata": {},
   "outputs": [],
   "source": [
    "class Node:\n",
    "    def __init__(self,value=None,next=None):\n",
    "        self.value = value\n",
    "        self.next = next"
   ]
  },
  {
   "cell_type": "code",
   "execution_count": 5,
   "id": "43e98811",
   "metadata": {},
   "outputs": [],
   "source": [
    "A = Node(1)\n",
    "B = Node(2)\n",
    "C = Node(3)"
   ]
  },
  {
   "cell_type": "code",
   "execution_count": 6,
   "id": "1a92362c",
   "metadata": {},
   "outputs": [
    {
     "data": {
      "text/plain": [
       "1"
      ]
     },
     "execution_count": 6,
     "metadata": {},
     "output_type": "execute_result"
    }
   ],
   "source": [
    "A.value"
   ]
  },
  {
   "cell_type": "code",
   "execution_count": 7,
   "id": "0f7cb539",
   "metadata": {},
   "outputs": [
    {
     "data": {
      "text/plain": [
       "2"
      ]
     },
     "execution_count": 7,
     "metadata": {},
     "output_type": "execute_result"
    }
   ],
   "source": [
    "B.value"
   ]
  },
  {
   "cell_type": "code",
   "execution_count": 8,
   "id": "b57387ae",
   "metadata": {},
   "outputs": [
    {
     "name": "stdout",
     "output_type": "stream",
     "text": [
      "140733575883976\n",
      "140733575883976\n"
     ]
    }
   ],
   "source": [
    "print(id(A.next))\n",
    "print(id(B.next))"
   ]
  },
  {
   "cell_type": "code",
   "execution_count": 9,
   "id": "927d5139",
   "metadata": {},
   "outputs": [],
   "source": [
    "A.next = B"
   ]
  },
  {
   "cell_type": "code",
   "execution_count": 10,
   "id": "57d0e2c6",
   "metadata": {},
   "outputs": [],
   "source": [
    "B.next = C"
   ]
  },
  {
   "cell_type": "code",
   "execution_count": 11,
   "id": "7af731ca",
   "metadata": {},
   "outputs": [
    {
     "name": "stdout",
     "output_type": "stream",
     "text": [
      "1698081180496\n",
      "1698058212048\n",
      "140733575883976\n"
     ]
    }
   ],
   "source": [
    "print(id(A.next))\n",
    "print(id(B.next))\n",
    "print(id(C.next))"
   ]
  },
  {
   "cell_type": "code",
   "execution_count": 12,
   "id": "1e6d2884",
   "metadata": {},
   "outputs": [
    {
     "name": "stdout",
     "output_type": "stream",
     "text": [
      "1698081180496\n",
      "1698058212048\n"
     ]
    }
   ],
   "source": [
    "print(id(A.next))\n",
    "print(id(B.next))"
   ]
  },
  {
   "cell_type": "markdown",
   "id": "b8eb09de",
   "metadata": {},
   "source": [
    "# Build Linked_List Class\n"
   ]
  },
  {
   "cell_type": "code",
   "execution_count": 168,
   "id": "55e7389c",
   "metadata": {},
   "outputs": [],
   "source": [
    "class LinkedList():\n",
    "    def __init__(self):\n",
    "        self.head = None\n",
    "        self.n=0\n",
    "        \n",
    "    def insert_head(self, data):\n",
    "        new_node = Node(data)\n",
    "        new_node.next = self.head\n",
    "        self.head = new_node\n",
    "        self.n = self.n +1\n",
    "        \n",
    "    def len (self):  # doubt\n",
    "        return self.n\n",
    "    \n",
    "    def __str__(self):      # print the Linked List\n",
    "        curr = self.head\n",
    "        result=\"\"\n",
    "        while(curr!=None):\n",
    "            result = result + str(curr.value) + \"->\"\n",
    "            curr=curr.next\n",
    "        return result[:-2]\n",
    "    \n",
    "    def append(self,value):\n",
    "        new_node  = Node(value)\n",
    "        curr= self.head\n",
    "        if curr==None :\n",
    "            self.head = new_node\n",
    "            self.n=self.n +1   \n",
    "        else:\n",
    "            while(curr.next!=None):\n",
    "                curr = curr.next\n",
    "            curr.next = new_node\n",
    "            self.n = self.n+1\n",
    "        \n",
    "    def insert_after(self,value,after):\n",
    "        new_node = Node(value)\n",
    "        curr = self.head\n",
    "        while (curr!=None):\n",
    "            if (curr.value == after):\n",
    "                break\n",
    "            curr=curr.next                                ##IMPORTANT\n",
    "        if curr!= None:\n",
    "            new_node.next = curr.next\n",
    "            curr.next =  new_node\n",
    "            self.n =self.n+1\n",
    "        else:\n",
    "            return \"Item not found.\"\n",
    "        \n",
    "    '''def clear(self):\n",
    "        self.head.next = None\n",
    "        self.n = 0'''                  #doubt\n",
    "        \n",
    "    def delete_head(self):\n",
    "        self.head = self.head.next\n",
    "        self.n = self.n-1\n",
    "        \n",
    "    def pop(self):\n",
    "        curr = self.head\n",
    "        if self.head == None:\n",
    "            return \"Empty LL\"                             ##IMPORTANT\n",
    "        elif curr.next == None:\n",
    "            self.n = self.n-1\n",
    "            return self.delete_head()   \n",
    "        else:\n",
    "            while(curr.next.next != None):\n",
    "                curr = curr.next\n",
    "            curr.next = None\n",
    "            self.n = self.n-1\n",
    "            \n",
    "    def remove (self ,ele):\n",
    "        curr = self.head\n",
    "        if self.head == None:\n",
    "            return \"Empty LL\"\n",
    "        elif self.head.value == ele:\n",
    "            self.n = self.n-1\n",
    "            return self.delete_head()\n",
    "        else:\n",
    "            while (curr.next!= None):\n",
    "                if curr.next.value == ele:                    ##IMPORTANT\n",
    "                    break\n",
    "                curr = curr.next\n",
    "            if curr.next == None:\n",
    "                return \"Not Found.\"\n",
    "            else:\n",
    "                curr.next = curr.next.next\n",
    "                self.n = self.n - 1\n",
    "    \n",
    "    def search(self ,ele):\n",
    "        curr = self.head\n",
    "        pos = 0\n",
    "        if self.head == None:\n",
    "            return \"Empty LL\"  \n",
    "        else:\n",
    "            while (curr != None):\n",
    "                if curr.value == ele:                    ##IMPORTANT\n",
    "                    break\n",
    "                pos = pos + 1\n",
    "                curr = curr.next\n",
    "            if curr == None:\n",
    "                return \"Not Found.\"\n",
    "            else:\n",
    "                return f\"Data found at index {pos}\"\n",
    "            \n",
    "    '''def search(self, ele):\n",
    "    curr = self.head\n",
    "    pos = 0\n",
    "    if not curr:\n",
    "        return \"Empty LL\"\n",
    "    \n",
    "    while curr:\n",
    "        if curr.value == ele:\n",
    "            return f\"Data found at index {pos}\"\n",
    "        pos += 1\n",
    "        curr = curr.next\n",
    "\n",
    "    return \"Not Found.\"   '''\n",
    "    \n",
    "    def __getitem__(self,index):\n",
    "        curr = self.head\n",
    "        pos = 0\n",
    "        while curr:\n",
    "            if pos == index:\n",
    "                return curr.value                                      # Not working check\n",
    "            pos = pos +1\n",
    "            curr = curr.next\n",
    "        raise IndexError(\"LinkedList index out of range\")\n",
    "        \n",
    "    def reverse(self):\n",
    "        \n",
    "        \n",
    "        \n",
    "                "
   ]
  },
  {
   "cell_type": "code",
   "execution_count": 169,
   "id": "64bd3552",
   "metadata": {},
   "outputs": [],
   "source": [
    "L = LinkedList()"
   ]
  },
  {
   "cell_type": "code",
   "execution_count": 170,
   "id": "e05b18d0",
   "metadata": {},
   "outputs": [],
   "source": [
    "L.insert_head(7)\n",
    "L.insert_head(8)\n",
    "L.insert_head(17)"
   ]
  },
  {
   "cell_type": "code",
   "execution_count": 171,
   "id": "23fbc0dc",
   "metadata": {},
   "outputs": [
    {
     "name": "stdout",
     "output_type": "stream",
     "text": [
      "17->8->7\n"
     ]
    }
   ],
   "source": [
    "print(L)"
   ]
  },
  {
   "cell_type": "code",
   "execution_count": 172,
   "id": "e803a4d2",
   "metadata": {},
   "outputs": [
    {
     "data": {
      "text/plain": [
       "3"
      ]
     },
     "execution_count": 172,
     "metadata": {},
     "output_type": "execute_result"
    }
   ],
   "source": [
    "L.len()"
   ]
  },
  {
   "cell_type": "code",
   "execution_count": 173,
   "id": "a22efc17",
   "metadata": {},
   "outputs": [],
   "source": [
    "L.append(21)"
   ]
  },
  {
   "cell_type": "code",
   "execution_count": 174,
   "id": "79cdc8f5",
   "metadata": {},
   "outputs": [
    {
     "name": "stdout",
     "output_type": "stream",
     "text": [
      "17->8->7->21\n"
     ]
    }
   ],
   "source": [
    "print(L)"
   ]
  },
  {
   "cell_type": "code",
   "execution_count": 175,
   "id": "4698064b",
   "metadata": {},
   "outputs": [],
   "source": [
    "L1=LinkedList()\n",
    "L1.append(21)"
   ]
  },
  {
   "cell_type": "code",
   "execution_count": 176,
   "id": "854a36b9",
   "metadata": {},
   "outputs": [
    {
     "name": "stdout",
     "output_type": "stream",
     "text": [
      "21\n"
     ]
    }
   ],
   "source": [
    "print(L1)"
   ]
  },
  {
   "cell_type": "code",
   "execution_count": 177,
   "id": "03d53088",
   "metadata": {},
   "outputs": [],
   "source": [
    "L.insert_after(28,17)"
   ]
  },
  {
   "cell_type": "code",
   "execution_count": 178,
   "id": "fb584434",
   "metadata": {},
   "outputs": [
    {
     "name": "stdout",
     "output_type": "stream",
     "text": [
      "17->28->8->7->21\n"
     ]
    }
   ],
   "source": [
    "print(L)"
   ]
  },
  {
   "cell_type": "code",
   "execution_count": 151,
   "id": "6607faa9",
   "metadata": {},
   "outputs": [
    {
     "name": "stdout",
     "output_type": "stream",
     "text": [
      "28->8->7->21\n"
     ]
    }
   ],
   "source": [
    "L.delete_head()\n",
    "print(L)"
   ]
  },
  {
   "cell_type": "code",
   "execution_count": 103,
   "id": "03928361",
   "metadata": {},
   "outputs": [],
   "source": [
    "L.pop()\n",
    "#print(L)"
   ]
  },
  {
   "cell_type": "code",
   "execution_count": 153,
   "id": "1929184d",
   "metadata": {},
   "outputs": [],
   "source": [
    "L.remove(21)\n"
   ]
  },
  {
   "cell_type": "code",
   "execution_count": 181,
   "id": "82ff4a2c",
   "metadata": {},
   "outputs": [
    {
     "name": "stdout",
     "output_type": "stream",
     "text": [
      "17->28->8->7->21\n"
     ]
    }
   ],
   "source": [
    "print(L)"
   ]
  },
  {
   "cell_type": "code",
   "execution_count": 167,
   "id": "ff97063a",
   "metadata": {},
   "outputs": [
    {
     "data": {
      "text/plain": [
       "'Not Found.'"
      ]
     },
     "execution_count": 167,
     "metadata": {},
     "output_type": "execute_result"
    }
   ],
   "source": [
    "L.search(9)"
   ]
  },
  {
   "cell_type": "code",
   "execution_count": 180,
   "id": "4c648b1b",
   "metadata": {},
   "outputs": [
    {
     "ename": "IndexError",
     "evalue": "LinkedList index out of range",
     "output_type": "error",
     "traceback": [
      "\u001b[1;31m---------------------------------------------------------------------------\u001b[0m",
      "\u001b[1;31mIndexError\u001b[0m                                Traceback (most recent call last)",
      "Cell \u001b[1;32mIn[180], line 1\u001b[0m\n\u001b[1;32m----> 1\u001b[0m \u001b[43mL\u001b[49m\u001b[43m[\u001b[49m\u001b[38;5;241;43m8\u001b[39;49m\u001b[43m]\u001b[49m\n",
      "Cell \u001b[1;32mIn[168], line 126\u001b[0m, in \u001b[0;36mLinkedList.__getitem__\u001b[1;34m(self, index)\u001b[0m\n\u001b[0;32m    124\u001b[0m     pos \u001b[38;5;241m=\u001b[39m pos \u001b[38;5;241m+\u001b[39m\u001b[38;5;241m1\u001b[39m\n\u001b[0;32m    125\u001b[0m     curr \u001b[38;5;241m=\u001b[39m curr\u001b[38;5;241m.\u001b[39mnext\n\u001b[1;32m--> 126\u001b[0m \u001b[38;5;28;01mraise\u001b[39;00m \u001b[38;5;167;01mIndexError\u001b[39;00m(\u001b[38;5;124m\"\u001b[39m\u001b[38;5;124mLinkedList index out of range\u001b[39m\u001b[38;5;124m\"\u001b[39m)\n",
      "\u001b[1;31mIndexError\u001b[0m: LinkedList index out of range"
     ]
    }
   ],
   "source": [
    "L[8]"
   ]
  },
  {
   "cell_type": "code",
   "execution_count": null,
   "id": "6d38a251",
   "metadata": {},
   "outputs": [],
   "source": []
  }
 ],
 "metadata": {
  "kernelspec": {
   "display_name": "Python 3 (ipykernel)",
   "language": "python",
   "name": "python3"
  },
  "language_info": {
   "codemirror_mode": {
    "name": "ipython",
    "version": 3
   },
   "file_extension": ".py",
   "mimetype": "text/x-python",
   "name": "python",
   "nbconvert_exporter": "python",
   "pygments_lexer": "ipython3",
   "version": "3.11.1"
  }
 },
 "nbformat": 4,
 "nbformat_minor": 5
}
