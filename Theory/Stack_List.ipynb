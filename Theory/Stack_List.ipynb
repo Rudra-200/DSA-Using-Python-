{
 "cells": [
  {
   "cell_type": "markdown",
   "id": "d169ae48",
   "metadata": {},
   "source": [
    "# Implementation of Stack using List(Dynamic-referential Array)"
   ]
  },
  {
   "cell_type": "code",
   "execution_count": 46,
   "id": "e862a885",
   "metadata": {},
   "outputs": [],
   "source": [
    "class Stack :\n",
    "    def __init__(self):\n",
    "        self.items = []\n",
    "    def push(self, data):\n",
    "        self.items.append(data)\n",
    "    def pop(self):\n",
    "        if not self.is_empty():\n",
    "            return self.items.pop()\n",
    "        else :\n",
    "            raise IndexError(\"Stack is Empty\")\n",
    "    def peek(self):\n",
    "        if not self.is_empty():\n",
    "            return self.items[-1]\n",
    "        else :\n",
    "            raise IndexError(\"Stack is Empty\")\n",
    "    def is_empty(self):\n",
    "        return len(self.items) == 0\n",
    "    def size(self):\n",
    "        return len(self.items)"
   ]
  },
  {
   "cell_type": "code",
   "execution_count": 47,
   "id": "84b5d845",
   "metadata": {},
   "outputs": [],
   "source": [
    "s = Stack()"
   ]
  },
  {
   "cell_type": "code",
   "execution_count": 48,
   "id": "f3f2a50d",
   "metadata": {},
   "outputs": [],
   "source": [
    "s.push(25)"
   ]
  },
  {
   "cell_type": "code",
   "execution_count": 49,
   "id": "8264b249",
   "metadata": {},
   "outputs": [
    {
     "data": {
      "text/plain": [
       "25"
      ]
     },
     "execution_count": 49,
     "metadata": {},
     "output_type": "execute_result"
    }
   ],
   "source": [
    "s.pop()"
   ]
  },
  {
   "cell_type": "code",
   "execution_count": 50,
   "id": "83b5081c",
   "metadata": {},
   "outputs": [],
   "source": [
    "s.push(25)\n",
    "s.push(15)\n",
    "s.push(5)\n",
    "s.push(12)\n",
    "s.push(22)\n"
   ]
  },
  {
   "cell_type": "code",
   "execution_count": 51,
   "id": "f769294b",
   "metadata": {},
   "outputs": [
    {
     "data": {
      "text/plain": [
       "5"
      ]
     },
     "execution_count": 51,
     "metadata": {},
     "output_type": "execute_result"
    }
   ],
   "source": [
    "s.size()"
   ]
  },
  {
   "cell_type": "code",
   "execution_count": 52,
   "id": "6878e606",
   "metadata": {},
   "outputs": [
    {
     "data": {
      "text/plain": [
       "22"
      ]
     },
     "execution_count": 52,
     "metadata": {},
     "output_type": "execute_result"
    }
   ],
   "source": [
    "s.peek()"
   ]
  },
  {
   "cell_type": "code",
   "execution_count": null,
   "id": "92da7114",
   "metadata": {},
   "outputs": [],
   "source": []
  }
 ],
 "metadata": {
  "kernelspec": {
   "display_name": "Python 3 (ipykernel)",
   "language": "python",
   "name": "python3"
  },
  "language_info": {
   "codemirror_mode": {
    "name": "ipython",
    "version": 3
   },
   "file_extension": ".py",
   "mimetype": "text/x-python",
   "name": "python",
   "nbconvert_exporter": "python",
   "pygments_lexer": "ipython3",
   "version": "3.11.1"
  }
 },
 "nbformat": 4,
 "nbformat_minor": 5
}
